{
 "cells": [
  {
   "cell_type": "markdown",
   "id": "b422420c",
   "metadata": {},
   "source": [
    "# Personality and preferences for movies analysis"
   ]
  },
  {
   "cell_type": "markdown",
   "id": "e83ad812",
   "metadata": {},
   "source": [
    "Data come from: https://www.kaggle.com/datasets/arslanali4343/top-personality-dataset"
   ]
  },
  {
   "cell_type": "markdown",
   "id": "b53834b7",
   "metadata": {},
   "source": [
    "### The purpose of research: \n",
    "\n",
    "The aim of the study is to create an algorithm that predict the level of satisfaction with watching movies from the suggested list based on the personality traits of the Big Five Personality model and the method of assigning a preferred list of films.\n"
   ]
  },
  {
   "cell_type": "markdown",
   "id": "ffb2d25b",
   "metadata": {},
   "source": [
    "### Loading required libraries"
   ]
  },
  {
   "cell_type": "code",
   "execution_count": 1,
   "id": "a1496e46",
   "metadata": {},
   "outputs": [],
   "source": [
    "import pandas as pd\n",
    "import numpy as np\n",
    "import seaborn as sns\n",
    "import matplotlib.pyplot as plt\n",
    "\n",
    "from scipy import stats\n",
    "from sklearn.model_selection import train_test_split, GridSearchCV, RandomizedSearchCV\n",
    "from sklearn.metrics import accuracy_score\n",
    "from sklearn.linear_model import LogisticRegression\n",
    "from sklearn.tree import DecisionTreeClassifier\n",
    "from sklearn.svm import LinearSVC\n",
    "from sklearn.ensemble import AdaBoostClassifier,GradientBoostingClassifier,RandomForestClassifier\n",
    "from imblearn.over_sampling import SMOTE"
   ]
  },
  {
   "cell_type": "markdown",
   "id": "57e32487",
   "metadata": {},
   "source": [
    "### Loading data and checking features"
   ]
  },
  {
   "cell_type": "code",
   "execution_count": 2,
   "id": "61f07673",
   "metadata": {},
   "outputs": [],
   "source": [
    "df = pd.read_csv(\"2018-personality-data.csv\")"
   ]
  },
  {
   "cell_type": "code",
   "execution_count": 3,
   "id": "a84fe2c4",
   "metadata": {},
   "outputs": [
    {
     "data": {
      "text/html": [
       "<div>\n",
       "<style scoped>\n",
       "    .dataframe tbody tr th:only-of-type {\n",
       "        vertical-align: middle;\n",
       "    }\n",
       "\n",
       "    .dataframe tbody tr th {\n",
       "        vertical-align: top;\n",
       "    }\n",
       "\n",
       "    .dataframe thead th {\n",
       "        text-align: right;\n",
       "    }\n",
       "</style>\n",
       "<table border=\"1\" class=\"dataframe\">\n",
       "  <thead>\n",
       "    <tr style=\"text-align: right;\">\n",
       "      <th></th>\n",
       "      <th>userid</th>\n",
       "      <th>openness</th>\n",
       "      <th>agreeableness</th>\n",
       "      <th>emotional_stability</th>\n",
       "      <th>conscientiousness</th>\n",
       "      <th>extraversion</th>\n",
       "      <th>assigned metric</th>\n",
       "      <th>assigned condition</th>\n",
       "      <th>movie_1</th>\n",
       "      <th>predicted_rating_1</th>\n",
       "      <th>...</th>\n",
       "      <th>movie_9</th>\n",
       "      <th>predicted_rating_9</th>\n",
       "      <th>movie_10</th>\n",
       "      <th>predicted_rating_10</th>\n",
       "      <th>movie_11</th>\n",
       "      <th>predicted_rating_11</th>\n",
       "      <th>movie_12</th>\n",
       "      <th>predicted_rating_12</th>\n",
       "      <th>is_personalized</th>\n",
       "      <th>enjoy_watching</th>\n",
       "    </tr>\n",
       "  </thead>\n",
       "  <tbody>\n",
       "    <tr>\n",
       "      <th>0</th>\n",
       "      <td>8e7cebf9a234c064b75016249f2ac65e</td>\n",
       "      <td>5.0</td>\n",
       "      <td>2.0</td>\n",
       "      <td>3.0</td>\n",
       "      <td>2.5</td>\n",
       "      <td>6.5</td>\n",
       "      <td>serendipity</td>\n",
       "      <td>high</td>\n",
       "      <td>77658</td>\n",
       "      <td>4.410466</td>\n",
       "      <td>...</td>\n",
       "      <td>120138</td>\n",
       "      <td>4.244817</td>\n",
       "      <td>121372</td>\n",
       "      <td>4.396004</td>\n",
       "      <td>127152</td>\n",
       "      <td>4.120456</td>\n",
       "      <td>95311</td>\n",
       "      <td>4.053847</td>\n",
       "      <td>4</td>\n",
       "      <td>4</td>\n",
       "    </tr>\n",
       "    <tr>\n",
       "      <th>1</th>\n",
       "      <td>77c7d756a093150d4377720abeaeef76</td>\n",
       "      <td>7.0</td>\n",
       "      <td>4.0</td>\n",
       "      <td>6.0</td>\n",
       "      <td>5.5</td>\n",
       "      <td>4.0</td>\n",
       "      <td>all</td>\n",
       "      <td>default</td>\n",
       "      <td>94959</td>\n",
       "      <td>4.207280</td>\n",
       "      <td>...</td>\n",
       "      <td>56782</td>\n",
       "      <td>4.019599</td>\n",
       "      <td>5618</td>\n",
       "      <td>3.963953</td>\n",
       "      <td>969</td>\n",
       "      <td>4.174188</td>\n",
       "      <td>1232</td>\n",
       "      <td>4.334877</td>\n",
       "      <td>2</td>\n",
       "      <td>3</td>\n",
       "    </tr>\n",
       "    <tr>\n",
       "      <th>2</th>\n",
       "      <td>b7e8a92987a530cc368719a0e60e26a3</td>\n",
       "      <td>4.0</td>\n",
       "      <td>3.0</td>\n",
       "      <td>4.5</td>\n",
       "      <td>2.0</td>\n",
       "      <td>2.5</td>\n",
       "      <td>serendipity</td>\n",
       "      <td>medium</td>\n",
       "      <td>110501</td>\n",
       "      <td>4.868064</td>\n",
       "      <td>...</td>\n",
       "      <td>2288</td>\n",
       "      <td>4.823212</td>\n",
       "      <td>3307</td>\n",
       "      <td>4.676756</td>\n",
       "      <td>1172</td>\n",
       "      <td>4.649281</td>\n",
       "      <td>1212</td>\n",
       "      <td>4.744990</td>\n",
       "      <td>2</td>\n",
       "      <td>2</td>\n",
       "    </tr>\n",
       "  </tbody>\n",
       "</table>\n",
       "<p>3 rows × 34 columns</p>\n",
       "</div>"
      ],
      "text/plain": [
       "                             userid   openness   agreeableness  \\\n",
       "0  8e7cebf9a234c064b75016249f2ac65e        5.0             2.0   \n",
       "1  77c7d756a093150d4377720abeaeef76        7.0             4.0   \n",
       "2  b7e8a92987a530cc368719a0e60e26a3        4.0             3.0   \n",
       "\n",
       "    emotional_stability   conscientiousness   extraversion  assigned metric  \\\n",
       "0                   3.0                 2.5            6.5      serendipity   \n",
       "1                   6.0                 5.5            4.0              all   \n",
       "2                   4.5                 2.0            2.5      serendipity   \n",
       "\n",
       "   assigned condition   movie_1   predicted_rating_1  ...   movie_9  \\\n",
       "0                high     77658             4.410466  ...    120138   \n",
       "1             default     94959             4.207280  ...     56782   \n",
       "2              medium    110501             4.868064  ...      2288   \n",
       "\n",
       "    predicted_rating_9   movie_10   predicted_rating_10   movie_11  \\\n",
       "0             4.244817     121372              4.396004     127152   \n",
       "1             4.019599       5618              3.963953        969   \n",
       "2             4.823212       3307              4.676756       1172   \n",
       "\n",
       "    predicted_rating_11   movie_12   predicted_rating_12   is_personalized  \\\n",
       "0              4.120456      95311              4.053847                 4   \n",
       "1              4.174188       1232              4.334877                 2   \n",
       "2              4.649281       1212              4.744990                 2   \n",
       "\n",
       "    enjoy_watching   \n",
       "0                 4  \n",
       "1                 3  \n",
       "2                 2  \n",
       "\n",
       "[3 rows x 34 columns]"
      ]
     },
     "execution_count": 3,
     "metadata": {},
     "output_type": "execute_result"
    }
   ],
   "source": [
    "df.head(3)"
   ]
  },
  {
   "cell_type": "code",
   "execution_count": 4,
   "id": "27eec53a",
   "metadata": {},
   "outputs": [
    {
     "name": "stdout",
     "output_type": "stream",
     "text": [
      "<class 'pandas.core.frame.DataFrame'>\n",
      "RangeIndex: 1834 entries, 0 to 1833\n",
      "Data columns (total 34 columns):\n",
      " #   Column                Non-Null Count  Dtype  \n",
      "---  ------                --------------  -----  \n",
      " 0   userid                1834 non-null   object \n",
      " 1    openness             1834 non-null   float64\n",
      " 2    agreeableness        1834 non-null   float64\n",
      " 3    emotional_stability  1834 non-null   float64\n",
      " 4    conscientiousness    1834 non-null   float64\n",
      " 5    extraversion         1834 non-null   float64\n",
      " 6    assigned metric      1834 non-null   object \n",
      " 7    assigned condition   1834 non-null   object \n",
      " 8    movie_1              1834 non-null   int64  \n",
      " 9    predicted_rating_1   1834 non-null   float64\n",
      " 10   movie_2              1834 non-null   int64  \n",
      " 11   predicted_rating_2   1834 non-null   float64\n",
      " 12   movie_3              1834 non-null   int64  \n",
      " 13   predicted_rating_3   1834 non-null   float64\n",
      " 14   movie_4              1834 non-null   int64  \n",
      " 15   predicted_rating_4   1834 non-null   float64\n",
      " 16   movie_5              1834 non-null   int64  \n",
      " 17   predicted_rating_5   1834 non-null   float64\n",
      " 18   movie_6              1834 non-null   int64  \n",
      " 19   predicted_rating_6   1834 non-null   float64\n",
      " 20   movie_7              1834 non-null   int64  \n",
      " 21   predicted_rating_7   1834 non-null   float64\n",
      " 22   movie_8              1834 non-null   int64  \n",
      " 23   predicted_rating_8   1834 non-null   float64\n",
      " 24   movie_9              1834 non-null   int64  \n",
      " 25   predicted_rating_9   1834 non-null   float64\n",
      " 26   movie_10             1834 non-null   int64  \n",
      " 27   predicted_rating_10  1834 non-null   float64\n",
      " 28   movie_11             1834 non-null   int64  \n",
      " 29   predicted_rating_11  1834 non-null   float64\n",
      " 30   movie_12             1834 non-null   int64  \n",
      " 31   predicted_rating_12  1834 non-null   float64\n",
      " 32   is_personalized      1834 non-null   int64  \n",
      " 33   enjoy_watching       1834 non-null   int64  \n",
      "dtypes: float64(17), int64(14), object(3)\n",
      "memory usage: 487.3+ KB\n"
     ]
    }
   ],
   "source": [
    "df.info()"
   ]
  },
  {
   "cell_type": "markdown",
   "id": "9488c1d8",
   "metadata": {},
   "source": [
    "There are no missing data in set. \n",
    "\n",
    "Remove spaces from the beginning of all column names and correct names two of them."
   ]
  },
  {
   "cell_type": "code",
   "execution_count": 5,
   "id": "84be6f61",
   "metadata": {},
   "outputs": [],
   "source": [
    "df.columns = df.columns.str.replace(' ', '')"
   ]
  },
  {
   "cell_type": "code",
   "execution_count": 6,
   "id": "b5704be6",
   "metadata": {},
   "outputs": [],
   "source": [
    "df.rename({'assignedmetric': 'assigned_metric', 'assignedcondition': 'assigned_condition'}, inplace=True, axis='columns')"
   ]
  },
  {
   "cell_type": "markdown",
   "id": "cc2ab3be",
   "metadata": {},
   "source": [
    "Data about movies will not be used in the research and therefore are deleted."
   ]
  },
  {
   "cell_type": "code",
   "execution_count": 7,
   "id": "f84e4e37",
   "metadata": {},
   "outputs": [],
   "source": [
    "for i in range(1,13):\n",
    "    df.drop([f\"movie_{i}\",f\"predicted_rating_{i}\" ], axis=1, inplace=True)"
   ]
  },
  {
   "cell_type": "code",
   "execution_count": 8,
   "id": "8552f376",
   "metadata": {},
   "outputs": [],
   "source": [
    "df.drop([\"userid\"], axis=1, inplace=True)"
   ]
  },
  {
   "cell_type": "code",
   "execution_count": 9,
   "id": "81fff240",
   "metadata": {},
   "outputs": [
    {
     "data": {
      "text/html": [
       "<div>\n",
       "<style scoped>\n",
       "    .dataframe tbody tr th:only-of-type {\n",
       "        vertical-align: middle;\n",
       "    }\n",
       "\n",
       "    .dataframe tbody tr th {\n",
       "        vertical-align: top;\n",
       "    }\n",
       "\n",
       "    .dataframe thead th {\n",
       "        text-align: right;\n",
       "    }\n",
       "</style>\n",
       "<table border=\"1\" class=\"dataframe\">\n",
       "  <thead>\n",
       "    <tr style=\"text-align: right;\">\n",
       "      <th></th>\n",
       "      <th>openness</th>\n",
       "      <th>agreeableness</th>\n",
       "      <th>emotional_stability</th>\n",
       "      <th>conscientiousness</th>\n",
       "      <th>extraversion</th>\n",
       "      <th>assigned_metric</th>\n",
       "      <th>assigned_condition</th>\n",
       "      <th>is_personalized</th>\n",
       "      <th>enjoy_watching</th>\n",
       "    </tr>\n",
       "  </thead>\n",
       "  <tbody>\n",
       "    <tr>\n",
       "      <th>0</th>\n",
       "      <td>5.0</td>\n",
       "      <td>2.0</td>\n",
       "      <td>3.0</td>\n",
       "      <td>2.5</td>\n",
       "      <td>6.5</td>\n",
       "      <td>serendipity</td>\n",
       "      <td>high</td>\n",
       "      <td>4</td>\n",
       "      <td>4</td>\n",
       "    </tr>\n",
       "    <tr>\n",
       "      <th>1</th>\n",
       "      <td>7.0</td>\n",
       "      <td>4.0</td>\n",
       "      <td>6.0</td>\n",
       "      <td>5.5</td>\n",
       "      <td>4.0</td>\n",
       "      <td>all</td>\n",
       "      <td>default</td>\n",
       "      <td>2</td>\n",
       "      <td>3</td>\n",
       "    </tr>\n",
       "    <tr>\n",
       "      <th>2</th>\n",
       "      <td>4.0</td>\n",
       "      <td>3.0</td>\n",
       "      <td>4.5</td>\n",
       "      <td>2.0</td>\n",
       "      <td>2.5</td>\n",
       "      <td>serendipity</td>\n",
       "      <td>medium</td>\n",
       "      <td>2</td>\n",
       "      <td>2</td>\n",
       "    </tr>\n",
       "    <tr>\n",
       "      <th>3</th>\n",
       "      <td>5.5</td>\n",
       "      <td>5.5</td>\n",
       "      <td>4.0</td>\n",
       "      <td>4.5</td>\n",
       "      <td>4.0</td>\n",
       "      <td>popularity</td>\n",
       "      <td>medium</td>\n",
       "      <td>3</td>\n",
       "      <td>3</td>\n",
       "    </tr>\n",
       "    <tr>\n",
       "      <th>4</th>\n",
       "      <td>5.5</td>\n",
       "      <td>5.5</td>\n",
       "      <td>3.5</td>\n",
       "      <td>4.5</td>\n",
       "      <td>2.5</td>\n",
       "      <td>popularity</td>\n",
       "      <td>medium</td>\n",
       "      <td>2</td>\n",
       "      <td>3</td>\n",
       "    </tr>\n",
       "  </tbody>\n",
       "</table>\n",
       "</div>"
      ],
      "text/plain": [
       "   openness  agreeableness  emotional_stability  conscientiousness  \\\n",
       "0       5.0            2.0                  3.0                2.5   \n",
       "1       7.0            4.0                  6.0                5.5   \n",
       "2       4.0            3.0                  4.5                2.0   \n",
       "3       5.5            5.5                  4.0                4.5   \n",
       "4       5.5            5.5                  3.5                4.5   \n",
       "\n",
       "   extraversion assigned_metric assigned_condition  is_personalized  \\\n",
       "0           6.5     serendipity               high                4   \n",
       "1           4.0             all            default                2   \n",
       "2           2.5     serendipity             medium                2   \n",
       "3           4.0      popularity             medium                3   \n",
       "4           2.5      popularity             medium                2   \n",
       "\n",
       "   enjoy_watching  \n",
       "0               4  \n",
       "1               3  \n",
       "2               2  \n",
       "3               3  \n",
       "4               3  "
      ]
     },
     "execution_count": 9,
     "metadata": {},
     "output_type": "execute_result"
    }
   ],
   "source": [
    "df.head()"
   ]
  },
  {
   "cell_type": "code",
   "execution_count": 10,
   "id": "1344a25e",
   "metadata": {},
   "outputs": [
    {
     "data": {
      "text/plain": [
       " popularity     574\n",
       " serendipity    532\n",
       " diversity      520\n",
       " all            208\n",
       "Name: assigned_metric, dtype: int64"
      ]
     },
     "execution_count": 10,
     "metadata": {},
     "output_type": "execute_result"
    }
   ],
   "source": [
    "df[\"assigned_metric\"].value_counts()"
   ]
  },
  {
   "cell_type": "code",
   "execution_count": 11,
   "id": "2f532453",
   "metadata": {},
   "outputs": [
    {
     "data": {
      "text/plain": [
       " high       554\n",
       " medium     538\n",
       " low        534\n",
       " default    208\n",
       "Name: assigned_condition, dtype: int64"
      ]
     },
     "execution_count": 11,
     "metadata": {},
     "output_type": "execute_result"
    }
   ],
   "source": [
    "df[\"assigned_condition\"].value_counts()"
   ]
  },
  {
   "cell_type": "code",
   "execution_count": 12,
   "id": "3886a4eb",
   "metadata": {},
   "outputs": [
    {
     "data": {
      "text/html": [
       "<div>\n",
       "<style scoped>\n",
       "    .dataframe tbody tr th:only-of-type {\n",
       "        vertical-align: middle;\n",
       "    }\n",
       "\n",
       "    .dataframe tbody tr th {\n",
       "        vertical-align: top;\n",
       "    }\n",
       "\n",
       "    .dataframe thead th {\n",
       "        text-align: right;\n",
       "    }\n",
       "</style>\n",
       "<table border=\"1\" class=\"dataframe\">\n",
       "  <thead>\n",
       "    <tr style=\"text-align: right;\">\n",
       "      <th></th>\n",
       "      <th>openness</th>\n",
       "      <th>agreeableness</th>\n",
       "      <th>emotional_stability</th>\n",
       "      <th>conscientiousness</th>\n",
       "      <th>extraversion</th>\n",
       "      <th>is_personalized</th>\n",
       "      <th>enjoy_watching</th>\n",
       "    </tr>\n",
       "  </thead>\n",
       "  <tbody>\n",
       "    <tr>\n",
       "      <th>count</th>\n",
       "      <td>1834.000000</td>\n",
       "      <td>1834.000000</td>\n",
       "      <td>1834.000000</td>\n",
       "      <td>1834.000000</td>\n",
       "      <td>1834.000000</td>\n",
       "      <td>1834.000000</td>\n",
       "      <td>1834.000000</td>\n",
       "    </tr>\n",
       "    <tr>\n",
       "      <th>mean</th>\n",
       "      <td>5.376499</td>\n",
       "      <td>4.215921</td>\n",
       "      <td>4.561614</td>\n",
       "      <td>4.662486</td>\n",
       "      <td>3.485551</td>\n",
       "      <td>3.056707</td>\n",
       "      <td>3.517993</td>\n",
       "    </tr>\n",
       "    <tr>\n",
       "      <th>std</th>\n",
       "      <td>1.042804</td>\n",
       "      <td>1.137923</td>\n",
       "      <td>1.392548</td>\n",
       "      <td>1.311450</td>\n",
       "      <td>1.468503</td>\n",
       "      <td>1.078507</td>\n",
       "      <td>1.059060</td>\n",
       "    </tr>\n",
       "    <tr>\n",
       "      <th>min</th>\n",
       "      <td>1.000000</td>\n",
       "      <td>1.000000</td>\n",
       "      <td>1.000000</td>\n",
       "      <td>1.000000</td>\n",
       "      <td>1.000000</td>\n",
       "      <td>1.000000</td>\n",
       "      <td>1.000000</td>\n",
       "    </tr>\n",
       "    <tr>\n",
       "      <th>25%</th>\n",
       "      <td>4.500000</td>\n",
       "      <td>3.500000</td>\n",
       "      <td>3.500000</td>\n",
       "      <td>4.000000</td>\n",
       "      <td>2.500000</td>\n",
       "      <td>2.000000</td>\n",
       "      <td>3.000000</td>\n",
       "    </tr>\n",
       "    <tr>\n",
       "      <th>50%</th>\n",
       "      <td>5.500000</td>\n",
       "      <td>4.000000</td>\n",
       "      <td>4.500000</td>\n",
       "      <td>4.500000</td>\n",
       "      <td>3.500000</td>\n",
       "      <td>3.000000</td>\n",
       "      <td>4.000000</td>\n",
       "    </tr>\n",
       "    <tr>\n",
       "      <th>75%</th>\n",
       "      <td>6.000000</td>\n",
       "      <td>5.000000</td>\n",
       "      <td>5.500000</td>\n",
       "      <td>5.500000</td>\n",
       "      <td>4.500000</td>\n",
       "      <td>4.000000</td>\n",
       "      <td>4.000000</td>\n",
       "    </tr>\n",
       "    <tr>\n",
       "      <th>max</th>\n",
       "      <td>7.000000</td>\n",
       "      <td>7.000000</td>\n",
       "      <td>7.000000</td>\n",
       "      <td>7.000000</td>\n",
       "      <td>7.000000</td>\n",
       "      <td>5.000000</td>\n",
       "      <td>5.000000</td>\n",
       "    </tr>\n",
       "  </tbody>\n",
       "</table>\n",
       "</div>"
      ],
      "text/plain": [
       "          openness  agreeableness  emotional_stability  conscientiousness  \\\n",
       "count  1834.000000    1834.000000          1834.000000        1834.000000   \n",
       "mean      5.376499       4.215921             4.561614           4.662486   \n",
       "std       1.042804       1.137923             1.392548           1.311450   \n",
       "min       1.000000       1.000000             1.000000           1.000000   \n",
       "25%       4.500000       3.500000             3.500000           4.000000   \n",
       "50%       5.500000       4.000000             4.500000           4.500000   \n",
       "75%       6.000000       5.000000             5.500000           5.500000   \n",
       "max       7.000000       7.000000             7.000000           7.000000   \n",
       "\n",
       "       extraversion  is_personalized  enjoy_watching  \n",
       "count   1834.000000      1834.000000     1834.000000  \n",
       "mean       3.485551         3.056707        3.517993  \n",
       "std        1.468503         1.078507        1.059060  \n",
       "min        1.000000         1.000000        1.000000  \n",
       "25%        2.500000         2.000000        3.000000  \n",
       "50%        3.500000         3.000000        4.000000  \n",
       "75%        4.500000         4.000000        4.000000  \n",
       "max        7.000000         5.000000        5.000000  "
      ]
     },
     "execution_count": 12,
     "metadata": {},
     "output_type": "execute_result"
    }
   ],
   "source": [
    "df.describe()"
   ]
  },
  {
   "cell_type": "code",
   "execution_count": 13,
   "id": "f00976f5",
   "metadata": {},
   "outputs": [
    {
     "data": {
      "image/png": "[encoded data removed]",
      "text/plain": [
       "<Figure size 1440x1080 with 9 Axes>"
      ]
     },
     "metadata": {
      "needs_background": "light"
     },
     "output_type": "display_data"
    }
   ],
   "source": [
    "df.hist(bins=5, figsize=(20,15))\n",
    "plt.show()"
   ]
  },
  {
   "cell_type": "markdown",
   "id": "6d4bbaa3",
   "metadata": {},
   "source": [
    "### Test for normality of distribution\n",
    "\n",
    "H0: sample comes from a normal distribution\n",
    "\n",
    "H1: sample does not come from a normal distribution"
   ]
  },
  {
   "cell_type": "code",
   "execution_count": 14,
   "id": "fedc04c4",
   "metadata": {},
   "outputs": [],
   "source": [
    "list_col = []\n",
    "for i in range(0,9):\n",
    "    list_col += [df.columns[i]]"
   ]
  },
  {
   "cell_type": "code",
   "execution_count": 15,
   "id": "653fe89f",
   "metadata": {},
   "outputs": [],
   "source": [
    "del list_col[5:7]"
   ]
  },
  {
   "cell_type": "code",
   "execution_count": 16,
   "id": "cab5a208",
   "metadata": {},
   "outputs": [
    {
     "data": {
      "text/plain": [
       "7"
      ]
     },
     "execution_count": 16,
     "metadata": {},
     "output_type": "execute_result"
    }
   ],
   "source": [
    "len(list_col)"
   ]
  },
  {
   "cell_type": "code",
   "execution_count": 17,
   "id": "a154ad05",
   "metadata": {},
   "outputs": [
    {
     "name": "stdout",
     "output_type": "stream",
     "text": [
      "For openness: statistic = 0.956, p-value = 0.0\n",
      "For agreeableness: statistic = 0.976, p-value = 0.0\n",
      "For emotional_stability: statistic = 0.973, p-value = 0.0\n",
      "For conscientiousness: statistic = 0.974, p-value = 0.0\n",
      "For extraversion: statistic = 0.969, p-value = 0.0\n",
      "For is_personalized: statistic = 0.898, p-value = 0.0\n",
      "For enjoy_watching: statistic = 0.885, p-value = 0.0\n"
     ]
    }
   ],
   "source": [
    "for i in range(len(list_col)):\n",
    "    shapiro = stats.shapiro(df[list_col[i]])\n",
    "    print(f\"For {list_col[i]}: statistic = {np.round(shapiro, 3)[0]}, p-value = {np.round(shapiro,3)[1]}\")"
   ]
  },
  {
   "cell_type": "markdown",
   "id": "4b166cf9",
   "metadata": {},
   "source": [
    "All null hypothesis can be rejected. Samples do not come from normal distrbution. "
   ]
  },
  {
   "cell_type": "markdown",
   "id": "f0dc0a42",
   "metadata": {},
   "source": [
    "### Target variable"
   ]
  },
  {
   "cell_type": "code",
   "execution_count": 18,
   "id": "e4d00b39",
   "metadata": {},
   "outputs": [
    {
     "data": {
      "text/plain": [
       "4    769\n",
       "3    396\n",
       "5    305\n",
       "2    299\n",
       "1     65\n",
       "Name: enjoy_watching, dtype: int64"
      ]
     },
     "execution_count": 18,
     "metadata": {},
     "output_type": "execute_result"
    }
   ],
   "source": [
    "df[\"enjoy_watching\"].value_counts()"
   ]
  },
  {
   "cell_type": "markdown",
   "id": "5d1efde0",
   "metadata": {},
   "source": [
    "### Correlation checking\n",
    "\n",
    "Pearson's correlaction can not be used because samples do not come from normal distrbution, so it is used Spearman's rank correlation. \n",
    "\n",
    "H0: target variable is correlated with independent variable\n",
    "\n",
    "H1: target variable is not correlated with independent variable"
   ]
  },
  {
   "cell_type": "code",
   "execution_count": 19,
   "id": "97444c05",
   "metadata": {},
   "outputs": [
    {
     "name": "stdout",
     "output_type": "stream",
     "text": [
      "For enjoy_watching and openness: statistic = 0.064, p-value = 0.006\n",
      "For enjoy_watching and agreeableness: statistic = 0.034, p-value = 0.142\n",
      "For enjoy_watching and emotional_stability: statistic = 0.003, p-value = 0.886\n",
      "For enjoy_watching and conscientiousness: statistic = -0.044, p-value = 0.059\n",
      "For enjoy_watching and extraversion: statistic = 0.029, p-value = 0.217\n",
      "For enjoy_watching and assigned_metric: statistic = -0.019, p-value = 0.424\n",
      "For enjoy_watching and assigned_condition: statistic = 0.007, p-value = 0.754\n",
      "For enjoy_watching and is_personalized: statistic = 0.63, p-value = 0.0\n"
     ]
    }
   ],
   "source": [
    "stat, p = stats.spearmanr(df)\n",
    "for i in range(0,len(df.columns)-1):\n",
    "    print(f\"For enjoy_watching and {df.columns[i]}: statistic = {np.round(stat, 3)[i,8]}, p-value = {np.round(p, 3)[i,8]}\")"
   ]
  },
  {
   "cell_type": "markdown",
   "id": "23bcc9ed",
   "metadata": {},
   "source": [
    "For enjoy_watching and openness as well as enjoy_watching and is_personalized null hypotheses can not be rejected. There is significant correlation between them. \n",
    "For the rest variables null hypotheses can be rejected. There is not significant correlation between them. \n",
    "\n",
    "Openness in Big Five Personality Traits describes the need to look for new experiences and peeling them positively, curiosity, tolerance for new things. So that is why it is significat related with receiving film suggestions. \n",
    "\n",
    "It can be assumed that people are more happy with watching films when they assume that suggested list is personalised for them. "
   ]
  },
  {
   "cell_type": "markdown",
   "id": "588782ee",
   "metadata": {},
   "source": [
    "### Prepare data to machine learning\n",
    "\n",
    "Levels 1 and 2 for enjoy watching were the smallest, so they were added together."
   ]
  },
  {
   "cell_type": "code",
   "execution_count": 20,
   "id": "8352b51b",
   "metadata": {},
   "outputs": [
    {
     "data": {
      "text/plain": [
       "4    769\n",
       "3    396\n",
       "2    364\n",
       "5    305\n",
       "Name: enjoy_watching_new, dtype: int64"
      ]
     },
     "execution_count": 20,
     "metadata": {},
     "output_type": "execute_result"
    }
   ],
   "source": [
    "df[\"enjoy_watching_new\"] = df [\"enjoy_watching\"].apply(lambda x: x*2 if x==1 else x)\n",
    "df[\"enjoy_watching_new\"].value_counts()"
   ]
  },
  {
   "cell_type": "code",
   "execution_count": 21,
   "id": "90d9ba34",
   "metadata": {},
   "outputs": [],
   "source": [
    "df1 = df.drop(\"enjoy_watching\", axis=1)"
   ]
  },
  {
   "cell_type": "code",
   "execution_count": 22,
   "id": "d2140210",
   "metadata": {},
   "outputs": [
    {
     "data": {
      "text/html": [
       "<div>\n",
       "<style scoped>\n",
       "    .dataframe tbody tr th:only-of-type {\n",
       "        vertical-align: middle;\n",
       "    }\n",
       "\n",
       "    .dataframe tbody tr th {\n",
       "        vertical-align: top;\n",
       "    }\n",
       "\n",
       "    .dataframe thead th {\n",
       "        text-align: right;\n",
       "    }\n",
       "</style>\n",
       "<table border=\"1\" class=\"dataframe\">\n",
       "  <thead>\n",
       "    <tr style=\"text-align: right;\">\n",
       "      <th></th>\n",
       "      <th>openness</th>\n",
       "      <th>agreeableness</th>\n",
       "      <th>emotional_stability</th>\n",
       "      <th>conscientiousness</th>\n",
       "      <th>extraversion</th>\n",
       "      <th>assigned_metric</th>\n",
       "      <th>assigned_condition</th>\n",
       "      <th>is_personalized</th>\n",
       "      <th>enjoy_watching_new</th>\n",
       "    </tr>\n",
       "  </thead>\n",
       "  <tbody>\n",
       "    <tr>\n",
       "      <th>0</th>\n",
       "      <td>5.0</td>\n",
       "      <td>2.0</td>\n",
       "      <td>3.0</td>\n",
       "      <td>2.5</td>\n",
       "      <td>6.5</td>\n",
       "      <td>serendipity</td>\n",
       "      <td>high</td>\n",
       "      <td>4</td>\n",
       "      <td>4</td>\n",
       "    </tr>\n",
       "    <tr>\n",
       "      <th>1</th>\n",
       "      <td>7.0</td>\n",
       "      <td>4.0</td>\n",
       "      <td>6.0</td>\n",
       "      <td>5.5</td>\n",
       "      <td>4.0</td>\n",
       "      <td>all</td>\n",
       "      <td>default</td>\n",
       "      <td>2</td>\n",
       "      <td>3</td>\n",
       "    </tr>\n",
       "  </tbody>\n",
       "</table>\n",
       "</div>"
      ],
      "text/plain": [
       "   openness  agreeableness  emotional_stability  conscientiousness  \\\n",
       "0       5.0            2.0                  3.0                2.5   \n",
       "1       7.0            4.0                  6.0                5.5   \n",
       "\n",
       "   extraversion assigned_metric assigned_condition  is_personalized  \\\n",
       "0           6.5     serendipity               high                4   \n",
       "1           4.0             all            default                2   \n",
       "\n",
       "   enjoy_watching_new  \n",
       "0                   4  \n",
       "1                   3  "
      ]
     },
     "execution_count": 22,
     "metadata": {},
     "output_type": "execute_result"
    }
   ],
   "source": [
    "df1.head(2)"
   ]
  },
  {
   "cell_type": "code",
   "execution_count": 23,
   "id": "3fdacfdd",
   "metadata": {},
   "outputs": [],
   "source": [
    "X = df1.drop(\"enjoy_watching_new\", axis=1)\n",
    "y = df1.enjoy_watching_new"
   ]
  },
  {
   "cell_type": "code",
   "execution_count": 24,
   "id": "eaf68722",
   "metadata": {},
   "outputs": [
    {
     "data": {
      "text/html": [
       "<div>\n",
       "<style scoped>\n",
       "    .dataframe tbody tr th:only-of-type {\n",
       "        vertical-align: middle;\n",
       "    }\n",
       "\n",
       "    .dataframe tbody tr th {\n",
       "        vertical-align: top;\n",
       "    }\n",
       "\n",
       "    .dataframe thead th {\n",
       "        text-align: right;\n",
       "    }\n",
       "</style>\n",
       "<table border=\"1\" class=\"dataframe\">\n",
       "  <thead>\n",
       "    <tr style=\"text-align: right;\">\n",
       "      <th></th>\n",
       "      <th>openness</th>\n",
       "      <th>agreeableness</th>\n",
       "      <th>emotional_stability</th>\n",
       "      <th>conscientiousness</th>\n",
       "      <th>extraversion</th>\n",
       "      <th>is_personalized</th>\n",
       "      <th>assigned_metric_ all</th>\n",
       "      <th>assigned_metric_ diversity</th>\n",
       "      <th>assigned_metric_ popularity</th>\n",
       "      <th>assigned_metric_ serendipity</th>\n",
       "      <th>assigned_condition_ default</th>\n",
       "      <th>assigned_condition_ high</th>\n",
       "      <th>assigned_condition_ low</th>\n",
       "      <th>assigned_condition_ medium</th>\n",
       "    </tr>\n",
       "  </thead>\n",
       "  <tbody>\n",
       "    <tr>\n",
       "      <th>0</th>\n",
       "      <td>5.0</td>\n",
       "      <td>2.0</td>\n",
       "      <td>3.0</td>\n",
       "      <td>2.5</td>\n",
       "      <td>6.5</td>\n",
       "      <td>4</td>\n",
       "      <td>0</td>\n",
       "      <td>0</td>\n",
       "      <td>0</td>\n",
       "      <td>1</td>\n",
       "      <td>0</td>\n",
       "      <td>1</td>\n",
       "      <td>0</td>\n",
       "      <td>0</td>\n",
       "    </tr>\n",
       "    <tr>\n",
       "      <th>1</th>\n",
       "      <td>7.0</td>\n",
       "      <td>4.0</td>\n",
       "      <td>6.0</td>\n",
       "      <td>5.5</td>\n",
       "      <td>4.0</td>\n",
       "      <td>2</td>\n",
       "      <td>1</td>\n",
       "      <td>0</td>\n",
       "      <td>0</td>\n",
       "      <td>0</td>\n",
       "      <td>1</td>\n",
       "      <td>0</td>\n",
       "      <td>0</td>\n",
       "      <td>0</td>\n",
       "    </tr>\n",
       "    <tr>\n",
       "      <th>2</th>\n",
       "      <td>4.0</td>\n",
       "      <td>3.0</td>\n",
       "      <td>4.5</td>\n",
       "      <td>2.0</td>\n",
       "      <td>2.5</td>\n",
       "      <td>2</td>\n",
       "      <td>0</td>\n",
       "      <td>0</td>\n",
       "      <td>0</td>\n",
       "      <td>1</td>\n",
       "      <td>0</td>\n",
       "      <td>0</td>\n",
       "      <td>0</td>\n",
       "      <td>1</td>\n",
       "    </tr>\n",
       "  </tbody>\n",
       "</table>\n",
       "</div>"
      ],
      "text/plain": [
       "   openness  agreeableness  emotional_stability  conscientiousness  \\\n",
       "0       5.0            2.0                  3.0                2.5   \n",
       "1       7.0            4.0                  6.0                5.5   \n",
       "2       4.0            3.0                  4.5                2.0   \n",
       "\n",
       "   extraversion  is_personalized  assigned_metric_ all  \\\n",
       "0           6.5                4                     0   \n",
       "1           4.0                2                     1   \n",
       "2           2.5                2                     0   \n",
       "\n",
       "   assigned_metric_ diversity  assigned_metric_ popularity  \\\n",
       "0                           0                            0   \n",
       "1                           0                            0   \n",
       "2                           0                            0   \n",
       "\n",
       "   assigned_metric_ serendipity  assigned_condition_ default  \\\n",
       "0                             1                            0   \n",
       "1                             0                            1   \n",
       "2                             1                            0   \n",
       "\n",
       "   assigned_condition_ high  assigned_condition_ low  \\\n",
       "0                         1                        0   \n",
       "1                         0                        0   \n",
       "2                         0                        0   \n",
       "\n",
       "   assigned_condition_ medium  \n",
       "0                           0  \n",
       "1                           0  \n",
       "2                           1  "
      ]
     },
     "execution_count": 24,
     "metadata": {},
     "output_type": "execute_result"
    }
   ],
   "source": [
    "X = pd.get_dummies(X)\n",
    "X.head(3)"
   ]
  },
  {
   "cell_type": "markdown",
   "id": "6931865c",
   "metadata": {},
   "source": [
    "### Spliting data set"
   ]
  },
  {
   "cell_type": "code",
   "execution_count": 25,
   "id": "1ddee70a",
   "metadata": {},
   "outputs": [],
   "source": [
    "X_train, X_test, y_train, y_test = train_test_split(X, y, test_size=0.2, random_state=42)"
   ]
  },
  {
   "cell_type": "markdown",
   "id": "bc06836e",
   "metadata": {},
   "source": [
    "### Base models\n",
    "\n",
    "The data will first be checked against default models.\n",
    "\n",
    "To improve the work, will be used a prepared function to create a model and its evaluation."
   ]
  },
  {
   "cell_type": "code",
   "execution_count": 26,
   "id": "55a2006c",
   "metadata": {},
   "outputs": [],
   "source": [
    "def model_and_evaluate(model, X_train, y_train, X_test, y_test):\n",
    "    \n",
    "    model.fit(X_train, y_train)\n",
    "    y_model = model.predict(X_test)\n",
    "    test_score = accuracy_score(y_test, \n",
    "                                model.predict(X_test))\n",
    "    \n",
    "    return test_score"
   ]
  },
  {
   "cell_type": "markdown",
   "id": "446c9218",
   "metadata": {},
   "source": [
    "For the model fitting, I will try out the following:\n",
    "1. Logistic Regression\n",
    "2. Decision Tree\n",
    "3. Linear SVC\n",
    "4. Random Forest\n",
    "5. AdaBoost\n",
    "6. GradientBoosting"
   ]
  },
  {
   "cell_type": "code",
   "execution_count": 27,
   "id": "9eba88c0",
   "metadata": {},
   "outputs": [
    {
     "name": "stdout",
     "output_type": "stream",
     "text": [
      "LogisticRegression()\n"
     ]
    },
    {
     "name": "stderr",
     "output_type": "stream",
     "text": [
      "/Users/agnieszka/opt/anaconda3/lib/python3.9/site-packages/sklearn/linear_model/_logistic.py:444: ConvergenceWarning: lbfgs failed to converge (status=1):\n",
      "STOP: TOTAL NO. of ITERATIONS REACHED LIMIT.\n",
      "\n",
      "Increase the number of iterations (max_iter) or scale the data as shown in:\n",
      "    https://scikit-learn.org/stable/modules/preprocessing.html\n",
      "Please also refer to the documentation for alternative solver options:\n",
      "    https://scikit-learn.org/stable/modules/linear_model.html#logistic-regression\n",
      "  n_iter_i = _check_optimize_result(\n"
     ]
    },
    {
     "name": "stdout",
     "output_type": "stream",
     "text": [
      "0.5613079019073569\n",
      "DecisionTreeClassifier()\n",
      "0.4550408719346049\n",
      "LinearSVC()\n"
     ]
    },
    {
     "name": "stderr",
     "output_type": "stream",
     "text": [
      "/Users/agnieszka/opt/anaconda3/lib/python3.9/site-packages/sklearn/svm/_base.py:1225: ConvergenceWarning: Liblinear failed to converge, increase the number of iterations.\n",
      "  warnings.warn(\n"
     ]
    },
    {
     "name": "stdout",
     "output_type": "stream",
     "text": [
      "0.5313351498637602\n",
      "RandomForestClassifier()\n",
      "0.553133514986376\n",
      "AdaBoostClassifier()\n",
      "0.5177111716621253\n",
      "GradientBoostingClassifier()\n",
      "0.5613079019073569\n"
     ]
    }
   ],
   "source": [
    "models = [LogisticRegression(), DecisionTreeClassifier(), LinearSVC(), RandomForestClassifier(), \n",
    "          AdaBoostClassifier(), GradientBoostingClassifier()]\n",
    "\n",
    "for model in models:\n",
    "    print(model)\n",
    "    print(model_and_evaluate(model, X_train, y_train, X_test, y_test))"
   ]
  },
  {
   "cell_type": "markdown",
   "id": "f5a452bc",
   "metadata": {},
   "source": [
    "All models handle the data at a similar level, so I reject the two with the lowest Accuracy Score and will run GridSearchCV and RandomizedSearchCV on the remaining four to see if it is possible to find a better model."
   ]
  },
  {
   "cell_type": "markdown",
   "id": "2456bd00",
   "metadata": {},
   "source": [
    "### Selection model and hyperparamets\n",
    "The function for building and evaluating the model will be created again."
   ]
  },
  {
   "cell_type": "code",
   "execution_count": 28,
   "id": "6d28db99",
   "metadata": {},
   "outputs": [],
   "source": [
    "def optimize_and_evaluate_grid(model, param_distr, X_train, y_train, X_test, y_test):\n",
    "    \n",
    "    optimizer = GridSearchCV(model, \n",
    "                         param_distr, \n",
    "                         cv=10, \n",
    "                         scoring=\"accuracy\",\n",
    "                         n_jobs=-1)\n",
    "    optimizer.fit(X_train, y_train)\n",
    "\n",
    "    best_params = optimizer.best_params_\n",
    "    test_score = accuracy_score(y_test, \n",
    "                                optimizer.best_estimator_.predict(X_test))\n",
    "    \n",
    "    return test_score, best_params\n",
    "\n",
    "def optimize_and_evaluate_random(model, param_distr, X_train, y_train, X_test, y_test):\n",
    "    \n",
    "    optimizer = RandomizedSearchCV(model, \n",
    "                         param_distr, \n",
    "                         cv=10, \n",
    "                         scoring=\"accuracy\",\n",
    "                         n_jobs=-1)\n",
    "    optimizer.fit(X_train, y_train)\n",
    "\n",
    "    best_params = optimizer.best_params_\n",
    "    test_score = accuracy_score(y_test, \n",
    "                                optimizer.best_estimator_.predict(X_test))\n",
    "    \n",
    "    return test_score, best_params"
   ]
  },
  {
   "cell_type": "code",
   "execution_count": 29,
   "id": "02ae6df0",
   "metadata": {},
   "outputs": [
    {
     "name": "stderr",
     "output_type": "stream",
     "text": [
      "/Users/agnieszka/opt/anaconda3/lib/python3.9/site-packages/sklearn/linear_model/_logistic.py:1113: UserWarning: Setting penalty='none' will ignore the C and l1_ratio parameters\n",
      "  warnings.warn(\n",
      "/Users/agnieszka/opt/anaconda3/lib/python3.9/site-packages/sklearn/linear_model/_logistic.py:1113: UserWarning: Setting penalty='none' will ignore the C and l1_ratio parameters\n",
      "  warnings.warn(\n",
      "/Users/agnieszka/opt/anaconda3/lib/python3.9/site-packages/sklearn/linear_model/_logistic.py:1113: UserWarning: Setting penalty='none' will ignore the C and l1_ratio parameters\n",
      "  warnings.warn(\n",
      "/Users/agnieszka/opt/anaconda3/lib/python3.9/site-packages/sklearn/linear_model/_logistic.py:1113: UserWarning: Setting penalty='none' will ignore the C and l1_ratio parameters\n",
      "  warnings.warn(\n",
      "/Users/agnieszka/opt/anaconda3/lib/python3.9/site-packages/sklearn/linear_model/_logistic.py:1113: UserWarning: Setting penalty='none' will ignore the C and l1_ratio parameters\n",
      "  warnings.warn(\n",
      "/Users/agnieszka/opt/anaconda3/lib/python3.9/site-packages/sklearn/linear_model/_logistic.py:1113: UserWarning: Setting penalty='none' will ignore the C and l1_ratio parameters\n",
      "  warnings.warn(\n",
      "/Users/agnieszka/opt/anaconda3/lib/python3.9/site-packages/sklearn/linear_model/_logistic.py:1113: UserWarning: Setting penalty='none' will ignore the C and l1_ratio parameters\n",
      "  warnings.warn(\n",
      "/Users/agnieszka/opt/anaconda3/lib/python3.9/site-packages/sklearn/linear_model/_logistic.py:1113: UserWarning: Setting penalty='none' will ignore the C and l1_ratio parameters\n",
      "  warnings.warn(\n",
      "/Users/agnieszka/opt/anaconda3/lib/python3.9/site-packages/sklearn/linear_model/_logistic.py:1113: UserWarning: Setting penalty='none' will ignore the C and l1_ratio parameters\n",
      "  warnings.warn(\n",
      "/Users/agnieszka/opt/anaconda3/lib/python3.9/site-packages/sklearn/linear_model/_logistic.py:1113: UserWarning: Setting penalty='none' will ignore the C and l1_ratio parameters\n",
      "  warnings.warn(\n",
      "/Users/agnieszka/opt/anaconda3/lib/python3.9/site-packages/sklearn/linear_model/_logistic.py:1113: UserWarning: Setting penalty='none' will ignore the C and l1_ratio parameters\n",
      "  warnings.warn(\n",
      "/Users/agnieszka/opt/anaconda3/lib/python3.9/site-packages/sklearn/linear_model/_logistic.py:1113: UserWarning: Setting penalty='none' will ignore the C and l1_ratio parameters\n",
      "  warnings.warn(\n",
      "/Users/agnieszka/opt/anaconda3/lib/python3.9/site-packages/sklearn/linear_model/_logistic.py:1113: UserWarning: Setting penalty='none' will ignore the C and l1_ratio parameters\n",
      "  warnings.warn(\n",
      "/Users/agnieszka/opt/anaconda3/lib/python3.9/site-packages/sklearn/linear_model/_logistic.py:1113: UserWarning: Setting penalty='none' will ignore the C and l1_ratio parameters\n",
      "  warnings.warn(\n",
      "/Users/agnieszka/opt/anaconda3/lib/python3.9/site-packages/sklearn/linear_model/_logistic.py:1113: UserWarning: Setting penalty='none' will ignore the C and l1_ratio parameters\n",
      "  warnings.warn(\n",
      "/Users/agnieszka/opt/anaconda3/lib/python3.9/site-packages/sklearn/linear_model/_logistic.py:1113: UserWarning: Setting penalty='none' will ignore the C and l1_ratio parameters\n",
      "  warnings.warn(\n",
      "/Users/agnieszka/opt/anaconda3/lib/python3.9/site-packages/sklearn/linear_model/_logistic.py:1113: UserWarning: Setting penalty='none' will ignore the C and l1_ratio parameters\n",
      "  warnings.warn(\n",
      "/Users/agnieszka/opt/anaconda3/lib/python3.9/site-packages/sklearn/linear_model/_logistic.py:1113: UserWarning: Setting penalty='none' will ignore the C and l1_ratio parameters\n",
      "  warnings.warn(\n",
      "/Users/agnieszka/opt/anaconda3/lib/python3.9/site-packages/sklearn/linear_model/_logistic.py:1113: UserWarning: Setting penalty='none' will ignore the C and l1_ratio parameters\n",
      "  warnings.warn(\n",
      "/Users/agnieszka/opt/anaconda3/lib/python3.9/site-packages/sklearn/linear_model/_logistic.py:1113: UserWarning: Setting penalty='none' will ignore the C and l1_ratio parameters\n",
      "  warnings.warn(\n",
      "/Users/agnieszka/opt/anaconda3/lib/python3.9/site-packages/sklearn/model_selection/_validation.py:378: FitFailedWarning: \n",
      "60 fits failed out of a total of 120.\n",
      "The score on these train-test partitions for these parameters will be set to nan.\n",
      "If these failures are not expected, you can try to debug them by setting error_score='raise'.\n",
      "\n",
      "Below are more details about the failures:\n",
      "--------------------------------------------------------------------------------\n",
      "30 fits failed with the following error:\n",
      "Traceback (most recent call last):\n",
      "  File \"/Users/agnieszka/opt/anaconda3/lib/python3.9/site-packages/sklearn/model_selection/_validation.py\", line 686, in _fit_and_score\n",
      "    estimator.fit(X_train, y_train, **fit_params)\n",
      "  File \"/Users/agnieszka/opt/anaconda3/lib/python3.9/site-packages/sklearn/linear_model/_logistic.py\", line 1091, in fit\n",
      "    solver = _check_solver(self.solver, self.penalty, self.dual)\n",
      "  File \"/Users/agnieszka/opt/anaconda3/lib/python3.9/site-packages/sklearn/linear_model/_logistic.py\", line 61, in _check_solver\n",
      "    raise ValueError(\n",
      "ValueError: Solver lbfgs supports only 'l2' or 'none' penalties, got l1 penalty.\n",
      "\n",
      "--------------------------------------------------------------------------------\n",
      "30 fits failed with the following error:\n",
      "Traceback (most recent call last):\n",
      "  File \"/Users/agnieszka/opt/anaconda3/lib/python3.9/site-packages/sklearn/model_selection/_validation.py\", line 686, in _fit_and_score\n",
      "    estimator.fit(X_train, y_train, **fit_params)\n",
      "  File \"/Users/agnieszka/opt/anaconda3/lib/python3.9/site-packages/sklearn/linear_model/_logistic.py\", line 1091, in fit\n",
      "    solver = _check_solver(self.solver, self.penalty, self.dual)\n",
      "  File \"/Users/agnieszka/opt/anaconda3/lib/python3.9/site-packages/sklearn/linear_model/_logistic.py\", line 61, in _check_solver\n",
      "    raise ValueError(\n",
      "ValueError: Solver lbfgs supports only 'l2' or 'none' penalties, got elasticnet penalty.\n",
      "\n",
      "  warnings.warn(some_fits_failed_message, FitFailedWarning)\n",
      "/Users/agnieszka/opt/anaconda3/lib/python3.9/site-packages/sklearn/model_selection/_search.py:953: UserWarning: One or more of the test scores are non-finite: [0.54124965 0.53442829        nan        nan 0.54124965 0.53988911\n",
      "        nan        nan 0.54124965 0.54192992        nan        nan]\n",
      "  warnings.warn(\n",
      "/Users/agnieszka/opt/anaconda3/lib/python3.9/site-packages/sklearn/linear_model/_logistic.py:1113: UserWarning: Setting penalty='none' will ignore the C and l1_ratio parameters\n",
      "  warnings.warn(\n",
      "/Users/agnieszka/opt/anaconda3/lib/python3.9/site-packages/sklearn/linear_model/_logistic.py:1113: UserWarning: Setting penalty='none' will ignore the C and l1_ratio parameters\n",
      "  warnings.warn(\n",
      "/Users/agnieszka/opt/anaconda3/lib/python3.9/site-packages/sklearn/linear_model/_logistic.py:1113: UserWarning: Setting penalty='none' will ignore the C and l1_ratio parameters\n",
      "  warnings.warn(\n",
      "/Users/agnieszka/opt/anaconda3/lib/python3.9/site-packages/sklearn/linear_model/_logistic.py:1113: UserWarning: Setting penalty='none' will ignore the C and l1_ratio parameters\n",
      "  warnings.warn(\n",
      "/Users/agnieszka/opt/anaconda3/lib/python3.9/site-packages/sklearn/linear_model/_logistic.py:1113: UserWarning: Setting penalty='none' will ignore the C and l1_ratio parameters\n",
      "  warnings.warn(\n",
      "/Users/agnieszka/opt/anaconda3/lib/python3.9/site-packages/sklearn/linear_model/_logistic.py:1113: UserWarning: Setting penalty='none' will ignore the C and l1_ratio parameters\n",
      "  warnings.warn(\n",
      "/Users/agnieszka/opt/anaconda3/lib/python3.9/site-packages/sklearn/linear_model/_logistic.py:1113: UserWarning: Setting penalty='none' will ignore the C and l1_ratio parameters\n",
      "  warnings.warn(\n",
      "/Users/agnieszka/opt/anaconda3/lib/python3.9/site-packages/sklearn/linear_model/_logistic.py:1113: UserWarning: Setting penalty='none' will ignore the C and l1_ratio parameters\n",
      "  warnings.warn(\n",
      "/Users/agnieszka/opt/anaconda3/lib/python3.9/site-packages/sklearn/linear_model/_logistic.py:1113: UserWarning: Setting penalty='none' will ignore the C and l1_ratio parameters\n",
      "  warnings.warn(\n",
      "/Users/agnieszka/opt/anaconda3/lib/python3.9/site-packages/sklearn/linear_model/_logistic.py:1113: UserWarning: Setting penalty='none' will ignore the C and l1_ratio parameters\n",
      "  warnings.warn(\n",
      "/Users/agnieszka/opt/anaconda3/lib/python3.9/site-packages/sklearn/linear_model/_logistic.py:1113: UserWarning: Setting penalty='none' will ignore the C and l1_ratio parameters\n",
      "  warnings.warn(\n",
      "/Users/agnieszka/opt/anaconda3/lib/python3.9/site-packages/sklearn/linear_model/_logistic.py:1113: UserWarning: Setting penalty='none' will ignore the C and l1_ratio parameters\n",
      "  warnings.warn(\n",
      "/Users/agnieszka/opt/anaconda3/lib/python3.9/site-packages/sklearn/linear_model/_logistic.py:1113: UserWarning: Setting penalty='none' will ignore the C and l1_ratio parameters\n",
      "  warnings.warn(\n",
      "/Users/agnieszka/opt/anaconda3/lib/python3.9/site-packages/sklearn/linear_model/_logistic.py:1113: UserWarning: Setting penalty='none' will ignore the C and l1_ratio parameters\n",
      "  warnings.warn(\n",
      "/Users/agnieszka/opt/anaconda3/lib/python3.9/site-packages/sklearn/linear_model/_logistic.py:1113: UserWarning: Setting penalty='none' will ignore the C and l1_ratio parameters\n",
      "  warnings.warn(\n",
      "/Users/agnieszka/opt/anaconda3/lib/python3.9/site-packages/sklearn/linear_model/_logistic.py:1113: UserWarning: Setting penalty='none' will ignore the C and l1_ratio parameters\n",
      "  warnings.warn(\n",
      "/Users/agnieszka/opt/anaconda3/lib/python3.9/site-packages/sklearn/linear_model/_logistic.py:1113: UserWarning: Setting penalty='none' will ignore the C and l1_ratio parameters\n",
      "  warnings.warn(\n",
      "/Users/agnieszka/opt/anaconda3/lib/python3.9/site-packages/sklearn/linear_model/_logistic.py:1113: UserWarning: Setting penalty='none' will ignore the C and l1_ratio parameters\n",
      "  warnings.warn(\n",
      "/Users/agnieszka/opt/anaconda3/lib/python3.9/site-packages/sklearn/linear_model/_logistic.py:1113: UserWarning: Setting penalty='none' will ignore the C and l1_ratio parameters\n",
      "  warnings.warn(\n",
      "/Users/agnieszka/opt/anaconda3/lib/python3.9/site-packages/sklearn/linear_model/_logistic.py:1113: UserWarning: Setting penalty='none' will ignore the C and l1_ratio parameters\n",
      "  warnings.warn(\n"
     ]
    },
    {
     "name": "stdout",
     "output_type": "stream",
     "text": [
      "(0.5640326975476839, {'C': 10, 'max_iter': 1000, 'penalty': 'l2'})\n",
      "(0.5640326975476839, {'penalty': 'none', 'max_iter': 1000, 'C': 10})\n"
     ]
    },
    {
     "name": "stderr",
     "output_type": "stream",
     "text": [
      "/Users/agnieszka/opt/anaconda3/lib/python3.9/site-packages/sklearn/model_selection/_validation.py:378: FitFailedWarning: \n",
      "60 fits failed out of a total of 100.\n",
      "The score on these train-test partitions for these parameters will be set to nan.\n",
      "If these failures are not expected, you can try to debug them by setting error_score='raise'.\n",
      "\n",
      "Below are more details about the failures:\n",
      "--------------------------------------------------------------------------------\n",
      "30 fits failed with the following error:\n",
      "Traceback (most recent call last):\n",
      "  File \"/Users/agnieszka/opt/anaconda3/lib/python3.9/site-packages/sklearn/model_selection/_validation.py\", line 686, in _fit_and_score\n",
      "    estimator.fit(X_train, y_train, **fit_params)\n",
      "  File \"/Users/agnieszka/opt/anaconda3/lib/python3.9/site-packages/sklearn/linear_model/_logistic.py\", line 1091, in fit\n",
      "    solver = _check_solver(self.solver, self.penalty, self.dual)\n",
      "  File \"/Users/agnieszka/opt/anaconda3/lib/python3.9/site-packages/sklearn/linear_model/_logistic.py\", line 61, in _check_solver\n",
      "    raise ValueError(\n",
      "ValueError: Solver lbfgs supports only 'l2' or 'none' penalties, got elasticnet penalty.\n",
      "\n",
      "--------------------------------------------------------------------------------\n",
      "30 fits failed with the following error:\n",
      "Traceback (most recent call last):\n",
      "  File \"/Users/agnieszka/opt/anaconda3/lib/python3.9/site-packages/sklearn/model_selection/_validation.py\", line 686, in _fit_and_score\n",
      "    estimator.fit(X_train, y_train, **fit_params)\n",
      "  File \"/Users/agnieszka/opt/anaconda3/lib/python3.9/site-packages/sklearn/linear_model/_logistic.py\", line 1091, in fit\n",
      "    solver = _check_solver(self.solver, self.penalty, self.dual)\n",
      "  File \"/Users/agnieszka/opt/anaconda3/lib/python3.9/site-packages/sklearn/linear_model/_logistic.py\", line 61, in _check_solver\n",
      "    raise ValueError(\n",
      "ValueError: Solver lbfgs supports only 'l2' or 'none' penalties, got l1 penalty.\n",
      "\n",
      "  warnings.warn(some_fits_failed_message, FitFailedWarning)\n",
      "/Users/agnieszka/opt/anaconda3/lib/python3.9/site-packages/sklearn/model_selection/_search.py:953: UserWarning: One or more of the test scores are non-finite: [       nan 0.54124965        nan 0.54124965        nan        nan\n",
      " 0.53442829        nan 0.53988911        nan]\n",
      "  warnings.warn(\n",
      "/Users/agnieszka/opt/anaconda3/lib/python3.9/site-packages/sklearn/linear_model/_logistic.py:1113: UserWarning: Setting penalty='none' will ignore the C and l1_ratio parameters\n",
      "  warnings.warn(\n"
     ]
    }
   ],
   "source": [
    "lr = LogisticRegression()\n",
    "param_lr =[\n",
    "    {\"penalty\": [\"none\", \"l2\", \"l1\", \"elasticnet\"],\n",
    "     \"C\":[0.1, 1, 10],\n",
    "     \"max_iter\": [1000]}]\n",
    "lr_gr = optimize_and_evaluate_grid(lr, param_lr, X_train, y_train, X_test, y_test)\n",
    "lr_rd = optimize_and_evaluate_random(lr, param_lr, X_train, y_train, X_test, y_test)\n",
    "print(lr_gr)\n",
    "print (lr_rd)"
   ]
  },
  {
   "cell_type": "code",
   "execution_count": 30,
   "id": "311e1001",
   "metadata": {},
   "outputs": [
    {
     "name": "stderr",
     "output_type": "stream",
     "text": [
      "/Users/agnieszka/opt/anaconda3/lib/python3.9/site-packages/sklearn/svm/_base.py:1225: ConvergenceWarning: Liblinear failed to converge, increase the number of iterations.\n",
      "  warnings.warn(\n",
      "/Users/agnieszka/opt/anaconda3/lib/python3.9/site-packages/sklearn/svm/_base.py:1225: ConvergenceWarning: Liblinear failed to converge, increase the number of iterations.\n",
      "  warnings.warn(\n",
      "/Users/agnieszka/opt/anaconda3/lib/python3.9/site-packages/sklearn/svm/_base.py:1225: ConvergenceWarning: Liblinear failed to converge, increase the number of iterations.\n",
      "  warnings.warn(\n",
      "/Users/agnieszka/opt/anaconda3/lib/python3.9/site-packages/sklearn/svm/_base.py:1225: ConvergenceWarning: Liblinear failed to converge, increase the number of iterations.\n",
      "  warnings.warn(\n",
      "/Users/agnieszka/opt/anaconda3/lib/python3.9/site-packages/sklearn/svm/_base.py:1225: ConvergenceWarning: Liblinear failed to converge, increase the number of iterations.\n",
      "  warnings.warn(\n",
      "/Users/agnieszka/opt/anaconda3/lib/python3.9/site-packages/sklearn/svm/_base.py:1225: ConvergenceWarning: Liblinear failed to converge, increase the number of iterations.\n",
      "  warnings.warn(\n",
      "/Users/agnieszka/opt/anaconda3/lib/python3.9/site-packages/sklearn/svm/_base.py:1225: ConvergenceWarning: Liblinear failed to converge, increase the number of iterations.\n",
      "  warnings.warn(\n",
      "/Users/agnieszka/opt/anaconda3/lib/python3.9/site-packages/sklearn/svm/_base.py:1225: ConvergenceWarning: Liblinear failed to converge, increase the number of iterations.\n",
      "  warnings.warn(\n",
      "/Users/agnieszka/opt/anaconda3/lib/python3.9/site-packages/sklearn/svm/_base.py:1225: ConvergenceWarning: Liblinear failed to converge, increase the number of iterations.\n",
      "  warnings.warn(\n",
      "/Users/agnieszka/opt/anaconda3/lib/python3.9/site-packages/sklearn/svm/_base.py:1225: ConvergenceWarning: Liblinear failed to converge, increase the number of iterations.\n",
      "  warnings.warn(\n",
      "/Users/agnieszka/opt/anaconda3/lib/python3.9/site-packages/sklearn/svm/_base.py:1225: ConvergenceWarning: Liblinear failed to converge, increase the number of iterations.\n",
      "  warnings.warn(\n",
      "/Users/agnieszka/opt/anaconda3/lib/python3.9/site-packages/sklearn/svm/_base.py:1225: ConvergenceWarning: Liblinear failed to converge, increase the number of iterations.\n",
      "  warnings.warn(\n",
      "/Users/agnieszka/opt/anaconda3/lib/python3.9/site-packages/sklearn/svm/_base.py:1225: ConvergenceWarning: Liblinear failed to converge, increase the number of iterations.\n",
      "  warnings.warn(\n",
      "/Users/agnieszka/opt/anaconda3/lib/python3.9/site-packages/sklearn/svm/_base.py:1225: ConvergenceWarning: Liblinear failed to converge, increase the number of iterations.\n",
      "  warnings.warn(\n",
      "/Users/agnieszka/opt/anaconda3/lib/python3.9/site-packages/sklearn/svm/_base.py:1225: ConvergenceWarning: Liblinear failed to converge, increase the number of iterations.\n",
      "  warnings.warn(\n",
      "/Users/agnieszka/opt/anaconda3/lib/python3.9/site-packages/sklearn/svm/_base.py:1225: ConvergenceWarning: Liblinear failed to converge, increase the number of iterations.\n",
      "  warnings.warn(\n",
      "/Users/agnieszka/opt/anaconda3/lib/python3.9/site-packages/sklearn/svm/_base.py:1225: ConvergenceWarning: Liblinear failed to converge, increase the number of iterations.\n",
      "  warnings.warn(\n",
      "/Users/agnieszka/opt/anaconda3/lib/python3.9/site-packages/sklearn/svm/_base.py:1225: ConvergenceWarning: Liblinear failed to converge, increase the number of iterations.\n",
      "  warnings.warn(\n",
      "/Users/agnieszka/opt/anaconda3/lib/python3.9/site-packages/sklearn/svm/_base.py:1225: ConvergenceWarning: Liblinear failed to converge, increase the number of iterations.\n",
      "  warnings.warn(\n",
      "/Users/agnieszka/opt/anaconda3/lib/python3.9/site-packages/sklearn/svm/_base.py:1225: ConvergenceWarning: Liblinear failed to converge, increase the number of iterations.\n",
      "  warnings.warn(\n",
      "/Users/agnieszka/opt/anaconda3/lib/python3.9/site-packages/sklearn/svm/_base.py:1225: ConvergenceWarning: Liblinear failed to converge, increase the number of iterations.\n",
      "  warnings.warn(\n",
      "/Users/agnieszka/opt/anaconda3/lib/python3.9/site-packages/sklearn/svm/_base.py:1225: ConvergenceWarning: Liblinear failed to converge, increase the number of iterations.\n",
      "  warnings.warn(\n",
      "/Users/agnieszka/opt/anaconda3/lib/python3.9/site-packages/sklearn/svm/_base.py:1225: ConvergenceWarning: Liblinear failed to converge, increase the number of iterations.\n",
      "  warnings.warn(\n",
      "/Users/agnieszka/opt/anaconda3/lib/python3.9/site-packages/sklearn/svm/_base.py:1225: ConvergenceWarning: Liblinear failed to converge, increase the number of iterations.\n",
      "  warnings.warn(\n",
      "/Users/agnieszka/opt/anaconda3/lib/python3.9/site-packages/sklearn/svm/_base.py:1225: ConvergenceWarning: Liblinear failed to converge, increase the number of iterations.\n",
      "  warnings.warn(\n",
      "/Users/agnieszka/opt/anaconda3/lib/python3.9/site-packages/sklearn/svm/_base.py:1225: ConvergenceWarning: Liblinear failed to converge, increase the number of iterations.\n",
      "  warnings.warn(\n",
      "/Users/agnieszka/opt/anaconda3/lib/python3.9/site-packages/sklearn/svm/_base.py:1225: ConvergenceWarning: Liblinear failed to converge, increase the number of iterations.\n",
      "  warnings.warn(\n",
      "/Users/agnieszka/opt/anaconda3/lib/python3.9/site-packages/sklearn/svm/_base.py:1225: ConvergenceWarning: Liblinear failed to converge, increase the number of iterations.\n",
      "  warnings.warn(\n",
      "/Users/agnieszka/opt/anaconda3/lib/python3.9/site-packages/sklearn/svm/_base.py:1225: ConvergenceWarning: Liblinear failed to converge, increase the number of iterations.\n",
      "  warnings.warn(\n",
      "/Users/agnieszka/opt/anaconda3/lib/python3.9/site-packages/sklearn/svm/_base.py:1225: ConvergenceWarning: Liblinear failed to converge, increase the number of iterations.\n",
      "  warnings.warn(\n",
      "/Users/agnieszka/opt/anaconda3/lib/python3.9/site-packages/sklearn/svm/_base.py:1225: ConvergenceWarning: Liblinear failed to converge, increase the number of iterations.\n",
      "  warnings.warn(\n",
      "/Users/agnieszka/opt/anaconda3/lib/python3.9/site-packages/sklearn/svm/_base.py:1225: ConvergenceWarning: Liblinear failed to converge, increase the number of iterations.\n",
      "  warnings.warn(\n",
      "/Users/agnieszka/opt/anaconda3/lib/python3.9/site-packages/sklearn/svm/_base.py:1225: ConvergenceWarning: Liblinear failed to converge, increase the number of iterations.\n",
      "  warnings.warn(\n",
      "/Users/agnieszka/opt/anaconda3/lib/python3.9/site-packages/sklearn/svm/_base.py:1225: ConvergenceWarning: Liblinear failed to converge, increase the number of iterations.\n",
      "  warnings.warn(\n",
      "/Users/agnieszka/opt/anaconda3/lib/python3.9/site-packages/sklearn/svm/_base.py:1225: ConvergenceWarning: Liblinear failed to converge, increase the number of iterations.\n",
      "  warnings.warn(\n",
      "/Users/agnieszka/opt/anaconda3/lib/python3.9/site-packages/sklearn/svm/_base.py:1225: ConvergenceWarning: Liblinear failed to converge, increase the number of iterations.\n",
      "  warnings.warn(\n",
      "/Users/agnieszka/opt/anaconda3/lib/python3.9/site-packages/sklearn/svm/_base.py:1225: ConvergenceWarning: Liblinear failed to converge, increase the number of iterations.\n",
      "  warnings.warn(\n",
      "/Users/agnieszka/opt/anaconda3/lib/python3.9/site-packages/sklearn/svm/_base.py:1225: ConvergenceWarning: Liblinear failed to converge, increase the number of iterations.\n",
      "  warnings.warn(\n",
      "/Users/agnieszka/opt/anaconda3/lib/python3.9/site-packages/sklearn/svm/_base.py:1225: ConvergenceWarning: Liblinear failed to converge, increase the number of iterations.\n",
      "  warnings.warn(\n",
      "/Users/agnieszka/opt/anaconda3/lib/python3.9/site-packages/sklearn/svm/_base.py:1225: ConvergenceWarning: Liblinear failed to converge, increase the number of iterations.\n",
      "  warnings.warn(\n",
      "/Users/agnieszka/opt/anaconda3/lib/python3.9/site-packages/sklearn/svm/_base.py:1225: ConvergenceWarning: Liblinear failed to converge, increase the number of iterations.\n",
      "  warnings.warn(\n",
      "/Users/agnieszka/opt/anaconda3/lib/python3.9/site-packages/sklearn/svm/_base.py:1225: ConvergenceWarning: Liblinear failed to converge, increase the number of iterations.\n",
      "  warnings.warn(\n",
      "/Users/agnieszka/opt/anaconda3/lib/python3.9/site-packages/sklearn/svm/_base.py:1225: ConvergenceWarning: Liblinear failed to converge, increase the number of iterations.\n",
      "  warnings.warn(\n",
      "/Users/agnieszka/opt/anaconda3/lib/python3.9/site-packages/sklearn/svm/_base.py:1225: ConvergenceWarning: Liblinear failed to converge, increase the number of iterations.\n",
      "  warnings.warn(\n",
      "/Users/agnieszka/opt/anaconda3/lib/python3.9/site-packages/sklearn/svm/_base.py:1225: ConvergenceWarning: Liblinear failed to converge, increase the number of iterations.\n",
      "  warnings.warn(\n",
      "/Users/agnieszka/opt/anaconda3/lib/python3.9/site-packages/sklearn/svm/_base.py:1225: ConvergenceWarning: Liblinear failed to converge, increase the number of iterations.\n",
      "  warnings.warn(\n",
      "/Users/agnieszka/opt/anaconda3/lib/python3.9/site-packages/sklearn/svm/_base.py:1225: ConvergenceWarning: Liblinear failed to converge, increase the number of iterations.\n",
      "  warnings.warn(\n",
      "/Users/agnieszka/opt/anaconda3/lib/python3.9/site-packages/sklearn/svm/_base.py:1225: ConvergenceWarning: Liblinear failed to converge, increase the number of iterations.\n",
      "  warnings.warn(\n",
      "/Users/agnieszka/opt/anaconda3/lib/python3.9/site-packages/sklearn/model_selection/_search.py:306: UserWarning: The total space of parameters 6 is smaller than n_iter=10. Running 6 iterations. For exhaustive searches, use GridSearchCV.\n",
      "  warnings.warn(\n"
     ]
    },
    {
     "name": "stderr",
     "output_type": "stream",
     "text": [
      "/Users/agnieszka/opt/anaconda3/lib/python3.9/site-packages/sklearn/svm/_base.py:1225: ConvergenceWarning: Liblinear failed to converge, increase the number of iterations.\n",
      "  warnings.warn(\n",
      "/Users/agnieszka/opt/anaconda3/lib/python3.9/site-packages/sklearn/svm/_base.py:1225: ConvergenceWarning: Liblinear failed to converge, increase the number of iterations.\n",
      "  warnings.warn(\n",
      "/Users/agnieszka/opt/anaconda3/lib/python3.9/site-packages/sklearn/svm/_base.py:1225: ConvergenceWarning: Liblinear failed to converge, increase the number of iterations.\n",
      "  warnings.warn(\n",
      "/Users/agnieszka/opt/anaconda3/lib/python3.9/site-packages/sklearn/svm/_base.py:1225: ConvergenceWarning: Liblinear failed to converge, increase the number of iterations.\n",
      "  warnings.warn(\n",
      "/Users/agnieszka/opt/anaconda3/lib/python3.9/site-packages/sklearn/svm/_base.py:1225: ConvergenceWarning: Liblinear failed to converge, increase the number of iterations.\n",
      "  warnings.warn(\n",
      "/Users/agnieszka/opt/anaconda3/lib/python3.9/site-packages/sklearn/svm/_base.py:1225: ConvergenceWarning: Liblinear failed to converge, increase the number of iterations.\n",
      "  warnings.warn(\n",
      "/Users/agnieszka/opt/anaconda3/lib/python3.9/site-packages/sklearn/svm/_base.py:1225: ConvergenceWarning: Liblinear failed to converge, increase the number of iterations.\n",
      "  warnings.warn(\n",
      "/Users/agnieszka/opt/anaconda3/lib/python3.9/site-packages/sklearn/svm/_base.py:1225: ConvergenceWarning: Liblinear failed to converge, increase the number of iterations.\n",
      "  warnings.warn(\n",
      "/Users/agnieszka/opt/anaconda3/lib/python3.9/site-packages/sklearn/svm/_base.py:1225: ConvergenceWarning: Liblinear failed to converge, increase the number of iterations.\n",
      "  warnings.warn(\n",
      "/Users/agnieszka/opt/anaconda3/lib/python3.9/site-packages/sklearn/svm/_base.py:1225: ConvergenceWarning: Liblinear failed to converge, increase the number of iterations.\n",
      "  warnings.warn(\n",
      "/Users/agnieszka/opt/anaconda3/lib/python3.9/site-packages/sklearn/svm/_base.py:1225: ConvergenceWarning: Liblinear failed to converge, increase the number of iterations.\n",
      "  warnings.warn(\n",
      "/Users/agnieszka/opt/anaconda3/lib/python3.9/site-packages/sklearn/svm/_base.py:1225: ConvergenceWarning: Liblinear failed to converge, increase the number of iterations.\n",
      "  warnings.warn(\n",
      "/Users/agnieszka/opt/anaconda3/lib/python3.9/site-packages/sklearn/svm/_base.py:1225: ConvergenceWarning: Liblinear failed to converge, increase the number of iterations.\n",
      "  warnings.warn(\n",
      "/Users/agnieszka/opt/anaconda3/lib/python3.9/site-packages/sklearn/svm/_base.py:1225: ConvergenceWarning: Liblinear failed to converge, increase the number of iterations.\n",
      "  warnings.warn(\n",
      "/Users/agnieszka/opt/anaconda3/lib/python3.9/site-packages/sklearn/svm/_base.py:1225: ConvergenceWarning: Liblinear failed to converge, increase the number of iterations.\n",
      "  warnings.warn(\n",
      "/Users/agnieszka/opt/anaconda3/lib/python3.9/site-packages/sklearn/svm/_base.py:1225: ConvergenceWarning: Liblinear failed to converge, increase the number of iterations.\n",
      "  warnings.warn(\n",
      "/Users/agnieszka/opt/anaconda3/lib/python3.9/site-packages/sklearn/svm/_base.py:1225: ConvergenceWarning: Liblinear failed to converge, increase the number of iterations.\n",
      "  warnings.warn(\n",
      "/Users/agnieszka/opt/anaconda3/lib/python3.9/site-packages/sklearn/svm/_base.py:1225: ConvergenceWarning: Liblinear failed to converge, increase the number of iterations.\n",
      "  warnings.warn(\n",
      "/Users/agnieszka/opt/anaconda3/lib/python3.9/site-packages/sklearn/svm/_base.py:1225: ConvergenceWarning: Liblinear failed to converge, increase the number of iterations.\n",
      "  warnings.warn(\n",
      "/Users/agnieszka/opt/anaconda3/lib/python3.9/site-packages/sklearn/svm/_base.py:1225: ConvergenceWarning: Liblinear failed to converge, increase the number of iterations.\n",
      "  warnings.warn(\n",
      "/Users/agnieszka/opt/anaconda3/lib/python3.9/site-packages/sklearn/svm/_base.py:1225: ConvergenceWarning: Liblinear failed to converge, increase the number of iterations.\n",
      "  warnings.warn(\n",
      "/Users/agnieszka/opt/anaconda3/lib/python3.9/site-packages/sklearn/svm/_base.py:1225: ConvergenceWarning: Liblinear failed to converge, increase the number of iterations.\n",
      "  warnings.warn(\n",
      "/Users/agnieszka/opt/anaconda3/lib/python3.9/site-packages/sklearn/svm/_base.py:1225: ConvergenceWarning: Liblinear failed to converge, increase the number of iterations.\n",
      "  warnings.warn(\n",
      "/Users/agnieszka/opt/anaconda3/lib/python3.9/site-packages/sklearn/svm/_base.py:1225: ConvergenceWarning: Liblinear failed to converge, increase the number of iterations.\n",
      "  warnings.warn(\n",
      "/Users/agnieszka/opt/anaconda3/lib/python3.9/site-packages/sklearn/svm/_base.py:1225: ConvergenceWarning: Liblinear failed to converge, increase the number of iterations.\n",
      "  warnings.warn(\n",
      "/Users/agnieszka/opt/anaconda3/lib/python3.9/site-packages/sklearn/svm/_base.py:1225: ConvergenceWarning: Liblinear failed to converge, increase the number of iterations.\n",
      "  warnings.warn(\n",
      "/Users/agnieszka/opt/anaconda3/lib/python3.9/site-packages/sklearn/svm/_base.py:1225: ConvergenceWarning: Liblinear failed to converge, increase the number of iterations.\n",
      "  warnings.warn(\n",
      "/Users/agnieszka/opt/anaconda3/lib/python3.9/site-packages/sklearn/svm/_base.py:1225: ConvergenceWarning: Liblinear failed to converge, increase the number of iterations.\n",
      "  warnings.warn(\n",
      "/Users/agnieszka/opt/anaconda3/lib/python3.9/site-packages/sklearn/svm/_base.py:1225: ConvergenceWarning: Liblinear failed to converge, increase the number of iterations.\n",
      "  warnings.warn(\n",
      "/Users/agnieszka/opt/anaconda3/lib/python3.9/site-packages/sklearn/svm/_base.py:1225: ConvergenceWarning: Liblinear failed to converge, increase the number of iterations.\n",
      "  warnings.warn(\n",
      "/Users/agnieszka/opt/anaconda3/lib/python3.9/site-packages/sklearn/svm/_base.py:1225: ConvergenceWarning: Liblinear failed to converge, increase the number of iterations.\n",
      "  warnings.warn(\n",
      "/Users/agnieszka/opt/anaconda3/lib/python3.9/site-packages/sklearn/svm/_base.py:1225: ConvergenceWarning: Liblinear failed to converge, increase the number of iterations.\n",
      "  warnings.warn(\n",
      "/Users/agnieszka/opt/anaconda3/lib/python3.9/site-packages/sklearn/svm/_base.py:1225: ConvergenceWarning: Liblinear failed to converge, increase the number of iterations.\n",
      "  warnings.warn(\n",
      "/Users/agnieszka/opt/anaconda3/lib/python3.9/site-packages/sklearn/svm/_base.py:1225: ConvergenceWarning: Liblinear failed to converge, increase the number of iterations.\n",
      "  warnings.warn(\n",
      "/Users/agnieszka/opt/anaconda3/lib/python3.9/site-packages/sklearn/svm/_base.py:1225: ConvergenceWarning: Liblinear failed to converge, increase the number of iterations.\n",
      "  warnings.warn(\n",
      "/Users/agnieszka/opt/anaconda3/lib/python3.9/site-packages/sklearn/svm/_base.py:1225: ConvergenceWarning: Liblinear failed to converge, increase the number of iterations.\n",
      "  warnings.warn(\n",
      "/Users/agnieszka/opt/anaconda3/lib/python3.9/site-packages/sklearn/svm/_base.py:1225: ConvergenceWarning: Liblinear failed to converge, increase the number of iterations.\n",
      "  warnings.warn(\n",
      "/Users/agnieszka/opt/anaconda3/lib/python3.9/site-packages/sklearn/svm/_base.py:1225: ConvergenceWarning: Liblinear failed to converge, increase the number of iterations.\n",
      "  warnings.warn(\n",
      "/Users/agnieszka/opt/anaconda3/lib/python3.9/site-packages/sklearn/svm/_base.py:1225: ConvergenceWarning: Liblinear failed to converge, increase the number of iterations.\n",
      "  warnings.warn(\n",
      "/Users/agnieszka/opt/anaconda3/lib/python3.9/site-packages/sklearn/svm/_base.py:1225: ConvergenceWarning: Liblinear failed to converge, increase the number of iterations.\n",
      "  warnings.warn(\n",
      "/Users/agnieszka/opt/anaconda3/lib/python3.9/site-packages/sklearn/svm/_base.py:1225: ConvergenceWarning: Liblinear failed to converge, increase the number of iterations.\n",
      "  warnings.warn(\n",
      "/Users/agnieszka/opt/anaconda3/lib/python3.9/site-packages/sklearn/svm/_base.py:1225: ConvergenceWarning: Liblinear failed to converge, increase the number of iterations.\n",
      "  warnings.warn(\n",
      "/Users/agnieszka/opt/anaconda3/lib/python3.9/site-packages/sklearn/svm/_base.py:1225: ConvergenceWarning: Liblinear failed to converge, increase the number of iterations.\n",
      "  warnings.warn(\n",
      "/Users/agnieszka/opt/anaconda3/lib/python3.9/site-packages/sklearn/svm/_base.py:1225: ConvergenceWarning: Liblinear failed to converge, increase the number of iterations.\n",
      "  warnings.warn(\n",
      "/Users/agnieszka/opt/anaconda3/lib/python3.9/site-packages/sklearn/svm/_base.py:1225: ConvergenceWarning: Liblinear failed to converge, increase the number of iterations.\n",
      "  warnings.warn(\n",
      "/Users/agnieszka/opt/anaconda3/lib/python3.9/site-packages/sklearn/svm/_base.py:1225: ConvergenceWarning: Liblinear failed to converge, increase the number of iterations.\n",
      "  warnings.warn(\n",
      "/Users/agnieszka/opt/anaconda3/lib/python3.9/site-packages/sklearn/svm/_base.py:1225: ConvergenceWarning: Liblinear failed to converge, increase the number of iterations.\n",
      "  warnings.warn(\n",
      "/Users/agnieszka/opt/anaconda3/lib/python3.9/site-packages/sklearn/svm/_base.py:1225: ConvergenceWarning: Liblinear failed to converge, increase the number of iterations.\n",
      "  warnings.warn(\n",
      "/Users/agnieszka/opt/anaconda3/lib/python3.9/site-packages/sklearn/svm/_base.py:1225: ConvergenceWarning: Liblinear failed to converge, increase the number of iterations.\n",
      "  warnings.warn(\n",
      "/Users/agnieszka/opt/anaconda3/lib/python3.9/site-packages/sklearn/svm/_base.py:1225: ConvergenceWarning: Liblinear failed to converge, increase the number of iterations.\n",
      "  warnings.warn(\n"
     ]
    },
    {
     "name": "stdout",
     "output_type": "stream",
     "text": [
      "(0.5340599455040872, {'C': 0.1, 'max_iter': 500})\n",
      "(0.5340599455040872, {'max_iter': 500, 'C': 0.1})\n"
     ]
    }
   ],
   "source": [
    "lsvc = LinearSVC()\n",
    "param_lsvc =[\n",
    "    {\"C\": [0.1, 1, 10],\n",
    "     \"max_iter\": [500, 1000]}]\n",
    "lsvc_gr = optimize_and_evaluate_grid(lsvc, param_lsvc, X_train, y_train, X_test, y_test)\n",
    "lsvc_rd = optimize_and_evaluate_random(lsvc, param_lsvc, X_train, y_train, X_test, y_test)\n",
    "print(lsvc_gr)\n",
    "print (lsvc_rd)"
   ]
  },
  {
   "cell_type": "code",
   "execution_count": 31,
   "id": "a635ae84",
   "metadata": {},
   "outputs": [
    {
     "name": "stderr",
     "output_type": "stream",
     "text": [
      "/Users/agnieszka/opt/anaconda3/lib/python3.9/site-packages/sklearn/model_selection/_search.py:306: UserWarning: The total space of parameters 8 is smaller than n_iter=10. Running 8 iterations. For exhaustive searches, use GridSearchCV.\n",
      "  warnings.warn(\n"
     ]
    },
    {
     "name": "stdout",
     "output_type": "stream",
     "text": [
      "(0.5885558583106267, {'max_samples': 0.75, 'min_samples_leaf': 5, 'n_estimators': 250})\n",
      "(0.5803814713896458, {'n_estimators': 250, 'min_samples_leaf': 5, 'max_samples': 0.75})\n"
     ]
    }
   ],
   "source": [
    "rfc = RandomForestClassifier()\n",
    "param_rfc=[{\"n_estimators\": [100, 250],\n",
    "     \"min_samples_leaf\": [1, 5],\n",
    "     \"max_samples\": [0.75, 1]}]\n",
    "rfc_gr = optimize_and_evaluate_grid(rfc, param_rfc, X_train, y_train, X_test, y_test)\n",
    "rfc_rd = optimize_and_evaluate_random(rfc, param_rfc, X_train, y_train, X_test, y_test)\n",
    "print(rfc_gr)\n",
    "print (rfc_rd)"
   ]
  },
  {
   "cell_type": "code",
   "execution_count": 32,
   "id": "4baed511",
   "metadata": {},
   "outputs": [
    {
     "name": "stdout",
     "output_type": "stream",
     "text": [
      "(0.5858310626702997, {'learning_rate': 0.1, 'max_depth': 3, 'n_estimators': 50})\n",
      "(0.5858310626702997, {'n_estimators': 50, 'max_depth': 3, 'learning_rate': 0.1})\n"
     ]
    }
   ],
   "source": [
    "gbc = GradientBoostingClassifier()\n",
    "param_gbc= [{\"n_estimators\": [50, 100], \n",
    "     \"learning_rate\": [0.1, 1, 10], \n",
    "     \"max_depth\": [3, 5]}]\n",
    "gbc_gr = optimize_and_evaluate_grid(gbc, param_gbc, X_train, y_train, X_test, y_test)\n",
    "gbc_rd = optimize_and_evaluate_random(gbc, param_gbc, X_train, y_train, X_test, y_test)\n",
    "print(gbc_gr)\n",
    "print (gbc_rd)"
   ]
  },
  {
   "cell_type": "markdown",
   "id": "60ab7b9a",
   "metadata": {},
   "source": [
    "The best Accuracy result is for the Random Forest algorithm obtained by the GridSearchCV method with the hyperparameters max_samples: 0.75, min_samples_leaf: 5, n_estimators: 250.\n",
    "Due to the fact that the hyperparameters are at the edges of the ranges, it will be conducted another search to see if the change of hyperparameters improve Accuracy."
   ]
  },
  {
   "cell_type": "code",
   "execution_count": 33,
   "id": "9670b04e",
   "metadata": {},
   "outputs": [
    {
     "name": "stdout",
     "output_type": "stream",
     "text": [
      "(0.5640326975476839, {'max_samples': 0.75, 'min_samples_leaf': 5, 'n_estimators': 100})\n"
     ]
    }
   ],
   "source": [
    "rfc = RandomForestClassifier()\n",
    "param_rfc1=[{\"n_estimators\": [100, 250, 500],\n",
    "     \"min_samples_leaf\": [1, 5, 7],\n",
    "     \"max_samples\": [0.75, 1, 5]}]\n",
    "rfc1_gr = optimize_and_evaluate_grid(rfc, param_rfc1, X_train, y_train, X_test, y_test)\n",
    "\n",
    "print(rfc1_gr)"
   ]
  },
  {
   "cell_type": "markdown",
   "id": "170b6ed0",
   "metadata": {},
   "source": [
    "The change of hyperparameters does not come the better Accuracy."
   ]
  },
  {
   "cell_type": "markdown",
   "id": "9952ed31",
   "metadata": {},
   "source": [
    "### SMOTE for unbalansed data\n",
    "\n",
    "Due to unbalanced data it will be checked whether the application of the SMOTE method improve the results for the chosen algorithm."
   ]
  },
  {
   "cell_type": "code",
   "execution_count": 34,
   "id": "5c05a201",
   "metadata": {},
   "outputs": [],
   "source": [
    "sm = SMOTE(sampling_strategy='auto', k_neighbors=2, random_state=1)\n",
    "Xsm_train, ysm_train = sm.fit_resample(X_train, y_train)"
   ]
  },
  {
   "cell_type": "code",
   "execution_count": 35,
   "id": "1739325b",
   "metadata": {},
   "outputs": [
    {
     "data": {
      "text/plain": [
       "0.5149863760217984"
      ]
     },
     "execution_count": 35,
     "metadata": {},
     "output_type": "execute_result"
    }
   ],
   "source": [
    "rfcsm = RandomForestClassifier(max_samples=0.75, min_samples_leaf=5, n_estimators=250)\n",
    "model_and_evaluate(rfcsm, Xsm_train, ysm_train, X_test, y_test)"
   ]
  },
  {
   "cell_type": "markdown",
   "id": "a8000df8",
   "metadata": {},
   "source": [
    "The method does not improve Accuracy."
   ]
  },
  {
   "cell_type": "markdown",
   "id": "7010632e",
   "metadata": {},
   "source": [
    "### Summary\n",
    "\n",
    "The best model based on Random Forest algorithm with parameters: max_samples: 0.75, min_samples_leaf: 5, n_estimators: 250. Accuracy for this model is 0.589.\n",
    "\n",
    "Statistic research show that varable enjoy_watching is correlated with opennes ans is personalized.\n",
    "\n",
    "The results reflect the unbalanced data set and this tool to describe the features of the Big Five - the TIPI questionnaire used contains two questions for each of the features, and an in-depth personality analysis could reveal a connection between factors other than openness to experience. Additionally, to obtain a better fit of the data to the algorithm, it might be helpful to expand the data on the suggested movies."
   ]
  }
 ],
 "metadata": {
  "kernelspec": {
   "display_name": "Python 3 (ipykernel)",
   "language": "python",
   "name": "python3"
  },
  "language_info": {
   "codemirror_mode": {
    "name": "ipython",
    "version": 3
   },
   "file_extension": ".py",
   "mimetype": "text/x-python",
   "name": "python",
   "nbconvert_exporter": "python",
   "pygments_lexer": "ipython3",
   "version": "3.9.7"
  },
  "varInspector": {
   "cols": {
    "lenName": 16,
    "lenType": 16,
    "lenVar": 40
   },
   "kernels_config": {
    "python": {
     "delete_cmd_postfix": "",
     "delete_cmd_prefix": "del ",
     "library": "var_list.py",
     "varRefreshCmd": "print(var_dic_list())"
    },
    "r": {
     "delete_cmd_postfix": ") ",
     "delete_cmd_prefix": "rm(",
     "library": "var_list.r",
     "varRefreshCmd": "cat(var_dic_list()) "
    }
   },
   "types_to_exclude": [
    "module",
    "function",
    "builtin_function_or_method",
    "instance",
    "_Feature"
   ],
   "window_display": false
  }
 },
 "nbformat": 4,
 "nbformat_minor": 5
}
